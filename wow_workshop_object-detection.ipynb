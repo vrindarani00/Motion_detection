{
 "cells": [
  {
   "cell_type": "code",
   "execution_count": null,
   "id": "92a516ae",
   "metadata": {},
   "outputs": [],
   "source": [
    "import cv2\n",
    "import mediapipe as mp \n",
    "mpDraw = mp.solutions.drawing_utils\n",
    "mpPose = mp.solutions.pose\n",
    "pose = mpPose.Pose()"
   ]
  },
  {
   "cell_type": "code",
   "execution_count": null,
   "id": "73d1a9b7",
   "metadata": {},
   "outputs": [],
   "source": [
    "cap = cv2.VideoCapture(0) #zero is the port number"
   ]
  },
  {
   "cell_type": "code",
   "execution_count": null,
   "id": "c6d35332",
   "metadata": {},
   "outputs": [],
   "source": [
    "while True:\n",
    "    x, img = cap.read()\n",
    "    imgRGB = cv2.cvtColor(img, cv2.COLOR_BGR2RGB)# when we capturing image using cv2 we got a BGR image so we convert it into RGB image. \n",
    "    results = pose.process(imgRGB)\n",
    "    #print((type(results.pose_landmarks)))\n",
    "    \n",
    "    if results.pose_landmarks:\n",
    "        print(\"Human Detected\")\n",
    "        mpDraw.draw_landmarks(img, results.pose_landmarks, mpPose.POSE_CONNECTIONS)\n",
    "        for id, lm in enumerate(results.pose_landmarks.landmark):# lm is the coordinate of the image\n",
    "            h, w, c = img.shape# height, width, no. of layers in the image\n",
    "            #print(id, lm)\n",
    "            cx, cy = int(lm.x * w), int(lm.y * h)\n",
    "            cv2.circle(img, (cx,cy),5,(0,0,155),cv2.FILLED)\n",
    "         \n",
    "            \n",
    "    else:\n",
    "        print(\"Mechine Detected\")\n",
    "        \n",
    "    cv2.imshow(\"Image\", img)\n",
    "    cv2.waitKey(1)\n",
    "    \n",
    "    if cv2.getWindowProperty(\"Image\", cv2.WND_PROP_VISIBLE) < 1: #Image is the name of the variable above in imshow dialogue box\n",
    "        break\n",
    "cv.destroyAllWindows()"
   ]
  },
  {
   "cell_type": "code",
   "execution_count": null,
   "id": "d6e49b05",
   "metadata": {},
   "outputs": [],
   "source": [
    "    \n",
    "        "
   ]
  }
 ],
 "metadata": {
  "kernelspec": {
   "display_name": "Python 3 (ipykernel)",
   "language": "python",
   "name": "python3"
  },
  "language_info": {
   "codemirror_mode": {
    "name": "ipython",
    "version": 3
   },
   "file_extension": ".py",
   "mimetype": "text/x-python",
   "name": "python",
   "nbconvert_exporter": "python",
   "pygments_lexer": "ipython3",
   "version": "3.9.7"
  }
 },
 "nbformat": 4,
 "nbformat_minor": 5
}
